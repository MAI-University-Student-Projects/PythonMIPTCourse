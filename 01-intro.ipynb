{
 "cells": [
  {
   "cell_type": "markdown",
   "metadata": {},
   "source": [
    "## Домашнее задание №1 (курс \"Практикум по программированию на языке Python\")"
   ]
  },
  {
   "cell_type": "markdown",
   "metadata": {},
   "source": [
    "### Тема: Введение в язык Python.\n",
    "\n",
    "**Автор**: Мурат Апишев\n",
    "\n",
    "**Выдана**:   25 февраля 2021\n",
    "\n",
    "**Дедлайн**:  21:00 11 марта 2021 _(+1 день)_\n",
    "\n",
    "**Среда выполнения**: Jupyter Notebook (Python 3.7+)\n",
    "\n",
    "#### Правила:\n",
    "\n",
    "Результат выполнения задания - Jupyter Notebook с кодом. __Максимальное число баллов за задание - 20__.\n",
    "\n",
    "Все ячейки должны быть \"выполненными\", при этом результат должен воспроизводиться при проверке (на Python 3.7). Если какой-то код не был запущен или отрабатывает с ошибками, то пункт не засчитывается. Задание, сданное после дедлайна, _не принимается_. Можно отправить недоделанное задание, выполненные пункты будут оценены.\n",
    "\n",
    "Готовое задание отправляется на почту mel-lain@yandex.ru.\n",
    "\n",
    "Задание выполняется самостоятельно. Если какие-то студенты будут уличены в списывании, все они автоматически получат за эту работу 0 баллов. Если вы нашли в Интернете какой-то специфичный код, который собираетесь заимствовать, обязательно укажите это в задании - наверняка вы не единственный, кто найдёт и использует эту информацию.\n",
    "\n",
    "__Удалять фрагменты формулировок заданий запрещается.__"
   ]
  },
  {
   "cell_type": "markdown",
   "metadata": {},
   "source": [
    "#### Постановка задачи:\n",
    "\n",
    "- В данной работе нужно решить набор задач, проверяющих владение базовыми инструментами языка.\n",
    "- Каждая задача представляет собой написание одной или более функций, а также набора тестов, проверяющих работу этой функции в общих и крайних случаях.\n",
    "- Отсутствие тестов автоматически уменьшает количество баллов за задание как минимум в два раза, некачественные тесты также будут штрафоваться.\n",
    "- Если в задании указано использовать несколько разных вариантов решения, подразумевается использование различных инструментов (циклы, списковые включения, генераторы, встроенные функции, функции модулей стандартной библотеки и т.п.), замена, например, цикла for на цикл while не является иным способом решения.\n",
    "- Даже если это не указано явно в требованиях, код должен быть по возможности неизбыточным, работать с разумной сложностью и объёмом потребялемой памяти, проверяющие могут снизить балл за задание, выполненное без учёта этого требования.\n",
    "- Результирующий код должен быть читаемым, с единой системой отступов и адеквантными названиями переменных, проверяющие могут снизить балл за задание, выполненное без учёта этого требования."
   ]
  },
  {
   "cell_type": "markdown",
   "metadata": {},
   "source": [
    "__Задание 1 (0.5 балла):__ Дано натуральное число. Требуется определить, является ли год с данным номером високосным. Если год является високосным, то выведите YES, иначе выведите NO. Напомним, что в соответствии с григорианским календарем, год является високосным, если его номер кратен 4, но не кратен 100, а также если он кратен 400."
   ]
  },
  {
   "cell_type": "code",
   "execution_count": 1,
   "metadata": {},
   "outputs": [
    {
     "name": "stdout",
     "output_type": "stream",
     "text": [
      "Tests passed\n"
     ]
    }
   ],
   "source": [
    "def task_01_func(year):\n",
    "    return \"YES\" if ( (year % 4 == 0) and (year % 100 != 0) ) or (year % 400 == 0) and (year != 0) else \"NO\"\n",
    "\n",
    "#tests\n",
    "tests = [10, 1832, 374, 272, 0, 21, 2006, 2400]\n",
    "tests_res = list(map(task_01_func, tests))\n",
    "assert tests_res == ['NO', 'YES', 'NO', 'YES', 'NO', 'NO', 'NO', 'YES'] \n",
    "print(\"Tests passed\")"
   ]
  },
  {
   "cell_type": "markdown",
   "metadata": {},
   "source": [
    "__Задание 2 (0.5 балла):__ Дано натуральное число. Найдите число знаков в его десятичной записи. Предложите как минимум два различных решения."
   ]
  },
  {
   "cell_type": "code",
   "execution_count": 2,
   "metadata": {},
   "outputs": [
    {
     "name": "stdout",
     "output_type": "stream",
     "text": [
      "Tests passed\n"
     ]
    }
   ],
   "source": [
    "def task_02_func(number):\n",
    "    i = 1\n",
    "    while not(number < 10):\n",
    "        number //= 10\n",
    "        i += 1\n",
    "    return i\n",
    "\n",
    "def task_02_func_recurs(number, i = 1):\n",
    "    return i if number < 10 else task_02_func_recurs(number // 10, i + 1)\n",
    "\n",
    "#tests\n",
    "tests = [5433131312, 5010, 23, 5]\n",
    "tests_res = list( map(task_02_func, tests) )\n",
    "tests_res_recurs = list( map(task_02_func, tests) )\n",
    "assert tests_res == [10, 4, 2, 1]\n",
    "assert tests_res_recurs == tests_res\n",
    "print(\"Tests passed\")"
   ]
  },
  {
   "cell_type": "markdown",
   "metadata": {},
   "source": [
    "__Задание 3 (0.5 балла):__ По данному натуральном n вычислите сумму 1!+2!+3!+...+n!. В решении этой задачи с помощью циклов можно использовать только один цикл. Предложите как минимум два различных решения."
   ]
  },
  {
   "cell_type": "code",
   "execution_count": 3,
   "metadata": {
    "tags": []
   },
   "outputs": [
    {
     "name": "stdout",
     "output_type": "stream",
     "text": [
      "Tests passed\n"
     ]
    }
   ],
   "source": [
    "def task_03_func(n):\n",
    "    tmp, res = (1, 1)\n",
    "    for i in range(2, n + 1):\n",
    "        tmp *= i\n",
    "        res += tmp\n",
    "    return res\n",
    "\n",
    "# 1 + 2*( 1 + 3*(... [n-2]*( 1 + [n-1]*( 1 + n ) ) ... ) )\n",
    "def task_03_func_recurs(n, res = 1):\n",
    "    return res if n == 1 else task_03_func_recurs(n - 1 ,1 + res * n)\n",
    "\n",
    "#tests\n",
    "tests = [2, 4, 6, 1, 5, 3]\n",
    "tests_res = list( map(task_03_func, tests) )\n",
    "tests_res_recurs = list( map(task_03_func_recurs, tests) )\n",
    "assert tests_res == [3, 33, 873, 1, 153, 9]\n",
    "assert tests_res_recurs == tests_res\n",
    "print(\"Tests passed\")"
   ]
  },
  {
   "cell_type": "markdown",
   "metadata": {},
   "source": [
    "__Задание 4 (0.5 балла):__ Определить, является ли введённая строка палиндромом (то есть одинаково читается с обеих сторон). Предложите как минимум три различных решения."
   ]
  },
  {
   "cell_type": "code",
   "execution_count": 4,
   "metadata": {
    "tags": []
   },
   "outputs": [
    {
     "name": "stdout",
     "output_type": "stream",
     "text": [
      "Tests passed\n"
     ]
    }
   ],
   "source": [
    "# my_collection[start:stop:step]\n",
    "def task_04_func(s):\n",
    "    return s == s[::-1]\n",
    "\n",
    "def task_04_func_01(s):\n",
    "    for i in range(len(s) // 2):\n",
    "        if s[i] != s[-(i+1)]: return False\n",
    "    return True\n",
    "\n",
    "def task_04_func_02(s):\n",
    "    return s == ''.join(reversed(s))\n",
    "\n",
    "#tests\n",
    "tests = [\"arozaupalalapuazora\", \"arozaupalaglapuazora\", \"parapara\", \"по-русски\", \"-2ab121ba2-\", \"по-русски икссур-оп\"]\n",
    "tests_res = list( map(task_04_func, tests) )\n",
    "tests_res_01 = list( map(task_04_func_01, tests) )\n",
    "tests_res_02 = list( map(task_04_func_02, tests) )\n",
    "assert tests_res == [True, False, False, False, True, True]\n",
    "assert tests_res_01 == tests_res\n",
    "assert tests_res_02 == tests_res\n",
    "print(\"Tests passed\")"
   ]
  },
  {
   "cell_type": "markdown",
   "metadata": {},
   "source": [
    "__Задание 5 (1 балл):__ Дан текст в виде строки. Напишите функцию, которая возвращает словарь, где ключами являются уникальные слова из этого текста, а значениями - число раз, которое данное слово встретилось в тексте. Считать, что слова разделяются пробелами. Предложите как минимум два различных решения."
   ]
  },
  {
   "cell_type": "code",
   "execution_count": 5,
   "metadata": {
    "tags": []
   },
   "outputs": [
    {
     "name": "stdout",
     "output_type": "stream",
     "text": [
      "Tests passed\n"
     ]
    }
   ],
   "source": [
    "def task_05_func(text):\n",
    "    w_list = text.split()\n",
    "    return {w : w_list.count(w) for w in w_list}\n",
    "\n",
    "def task_05_func_01(text):\n",
    "    w_list = text.split()\n",
    "    w_dict = {}\n",
    "    for w in w_list:\n",
    "        if not w in w_dict:\n",
    "            w_dict[w] = 0\n",
    "        w_dict[w] += 1 \n",
    "    return w_dict\n",
    "\n",
    "#tests\n",
    "tests = [\"Hello Python course hello python course\", \"1 хорошо 2 хорошо 3 лучше, 33 да\", \"ой-ой symbols! ой ой\"]\n",
    "tests_res = list( map(task_05_func, tests) )\n",
    "tests_res_01 = list( map(task_05_func_01, tests) )\n",
    "assert tests_res[0][\"python\"] == 1 and tests_res[0][\"Hello\"] == 1 and tests_res[0][\"course\"] == 2\n",
    "assert tests_res[1][\"хорошо\"] == 2 and tests_res[1][\"3\"] == 1 and tests_res[1][\"лучше,\"] == 1\n",
    "assert tests_res[2][\"ой\"] == 2 and tests_res[2][\"ой-ой\"] == 1 and tests_res[2][\"symbols!\"] == 1\n",
    "assert tests_res == tests_res_01\n",
    "print(\"Tests passed\")"
   ]
  },
  {
   "cell_type": "markdown",
   "metadata": {},
   "source": [
    "__Задание 6 (1 балл):__ Напишите функцию, которая принимает на вход строку и символ и возвращает:\n",
    "\n",
    "- если символ встретился в строке один раз - кортеж (индекс вхождения, None);\n",
    "- если два и более раз - кортеж (индекс первого вхождения, индекс последнего вхождения);\n",
    "- если ни разу - кортеж (None, None).\n",
    "\n",
    "Запрещается делать более одного прохода по каждому элементу строки."
   ]
  },
  {
   "cell_type": "code",
   "execution_count": 6,
   "metadata": {
    "tags": []
   },
   "outputs": [
    {
     "name": "stdout",
     "output_type": "stream",
     "text": [
      "Tests passed\n"
     ]
    }
   ],
   "source": [
    "def task_06_func(input_str, input_char):\n",
    "    fst_id, sec_id = (None, None)\n",
    "    for i, c in enumerate(input_str):\n",
    "        if c == input_char:\n",
    "            if fst_id is None: \n",
    "                fst_id = i\n",
    "            else: \n",
    "                sec_id = i\n",
    "    return (fst_id, sec_id)\n",
    "\n",
    "#tests\n",
    "tests = [\"Hello Python\", \"10, 100!, 200! \", \"здесь русская 'о'!!! .. 0 ) lol\"]\n",
    "tests_res_letters = list( map( lambda x: task_06_func(x, 'o'), tests) )\n",
    "tests_res_spaces = list( map( lambda x: task_06_func(x, ' '), tests) )\n",
    "tests_res_nums = list( map( lambda x: task_06_func(x, '0'), tests) )\n",
    "tests_res_rus = list( map( lambda x: task_06_func(x, 'о'), tests) )\n",
    "\n",
    "assert tests_res_letters[0] == (4, 10) and tests_res_letters[1] == (None, None) and tests_res_letters[2] == (29, None)\n",
    "assert tests_res_spaces[0] == (5, None) and tests_res_spaces[1] == (3, 14) and tests_res_spaces[2] == (5, 27)\n",
    "assert tests_res_nums[0] == (None, None) and tests_res_nums[1] == (1, 12) and tests_res_nums[2] == (24, None)\n",
    "assert tests_res_rus[0] == (None, None) and tests_res_rus[1] == (None, None) and tests_res_rus[2] == (15, None)\n",
    "\n",
    "print(\"Tests passed\")"
   ]
  },
  {
   "cell_type": "markdown",
   "metadata": {},
   "source": [
    "__Задание 7 (1 балл):__ Дан список целых чисел. Напишите функцию, которая возвращает копию этого списка, из которой удалены отрицательные числа, а все прочие числа возведены в квадрат. Также возвращаемая последовательность должна быть отсортирована по убыванию. Предложите как минимум три различных решения."
   ]
  },
  {
   "cell_type": "code",
   "execution_count": 7,
   "metadata": {
    "tags": []
   },
   "outputs": [
    {
     "name": "stdout",
     "output_type": "stream",
     "text": [
      "Tests passed\n"
     ]
    }
   ],
   "source": [
    "def task_07_func(lst):\n",
    "    return sorted( map( lambda x: x ** 2, \n",
    "                       filter( lambda x: not x < 0, lst ) \n",
    "                      ), \n",
    "                  reverse=True \n",
    "                 )\n",
    "\n",
    "def task_07_func_01(lst):\n",
    "    res = []\n",
    "    for val in lst:\n",
    "        if not val < 0:\n",
    "            res.append(val ** 2)\n",
    "    return sorted(res, reverse=True)\n",
    "\n",
    "def task_07_func_02(lst):\n",
    "    return sorted( [ x ** 2 for x in filter( lambda x: not x < 0, lst ) ], reverse=True )\n",
    "\n",
    "#tests\n",
    "tests = [-1,2,0,7, -92, 34]\n",
    "tests_res = task_07_func(tests)\n",
    "tests_res_01 = task_07_func_01(tests)\n",
    "tests_res_02 = task_07_func_01(tests)\n",
    "\n",
    "assert tests_res == [1156, 49, 4, 0]\n",
    "assert tests_res_01 == tests_res\n",
    "assert tests_res_02 == tests_res\n",
    "print(\"Tests passed\")"
   ]
  },
  {
   "cell_type": "markdown",
   "metadata": {},
   "source": [
    "__Задание 8 (1 балл):__ Напишите функцию, которая принимает на вход список кортежей одинаковой длины и индекс `index` элемента в кортеже и возвращает генератор, итерирование по которому позволит получит все кортежи входного списка, отсортированные по убыванию элементов этих кортежей с индексом `index`."
   ]
  },
  {
   "cell_type": "code",
   "execution_count": 8,
   "metadata": {},
   "outputs": [
    {
     "name": "stdout",
     "output_type": "stream",
     "text": [
      "Tests passed\n"
     ]
    }
   ],
   "source": [
    "def task_08_func(lst, index):\n",
    "    prev = []\n",
    "    for crt in lst:\n",
    "        prev.append(crt)\n",
    "        yield sorted(prev, key=lambda x: x[index], reverse=True)\n",
    "\n",
    "#tests\n",
    "for tests_res in task_08_func([(1,2,3), (4,5,4), (99,0,5), (2, 4, -12.5), (1, 2, 0.8)], 2) : pass\n",
    "assert tests_res[0] == (99,0,5)\n",
    "assert tests_res[-1] == (2, 4, -12.5)\n",
    "print(\"Tests passed\")"
   ]
  },
  {
   "cell_type": "markdown",
   "metadata": {},
   "source": [
    "__Задание 9 (1 балл):__ Напишите функцию, которая получает на вход натуральное число `n` и выводит первые `n` строк треугольника Паскаля."
   ]
  },
  {
   "cell_type": "code",
   "execution_count": 9,
   "metadata": {
    "tags": []
   },
   "outputs": [
    {
     "name": "stdout",
     "output_type": "stream",
     "text": [
      "\n",
      "\n",
      "\n",
      "\n",
      "\n",
      "Tests passed\n"
     ]
    }
   ],
   "source": [
    "def task_09_func(n):\n",
    "    tmp, res = ([1], [1])\n",
    "    for i in range(1, n):\n",
    "        print()\n",
    "        tmp = list( map( lambda x: x[0] + x[1], \n",
    "                        zip([0]+tmp, tmp+[0]) \n",
    "                       ) \n",
    "                  )\n",
    "        res.append(tmp)\n",
    "    return res\n",
    "\n",
    "#tests\n",
    "tests = 6 # 6 строчек\n",
    "tests_res = task_09_func(tests)\n",
    "assert tests_res[0] == 1 # 1-я строчка\n",
    "assert tests_res[2] == [1, 2, 1] # 3-я строчка\n",
    "assert tests_res[-1] == [1, 5, 10, 10, 5, 1] # 6-я строчка\n",
    "print(\"Tests passed\")"
   ]
  },
  {
   "cell_type": "markdown",
   "metadata": {},
   "source": [
    "__Задание 10 (1 балл):__ Напишите функцию, которая принимает на вход абсолютный путь к директории и две строки с расширениями файлов. В результате её выполнения у всех файлов в указанной директории, имеющих первое расширение, расширение должно измениться на второе. В конце работы функция должна возвращать кортеж из двух элементов:\n",
    "\n",
    "1. сколько всего в директории файлов (именно файлов, не директорий);\n",
    "2. у скольки из них расширение было изменено.\n",
    "\n",
    "Допускается только один проход по каждому файлу из указанной директории."
   ]
  },
  {
   "cell_type": "code",
   "execution_count": 10,
   "metadata": {},
   "outputs": [],
   "source": [
    "def task_10_func(dir_path, prev_extension, next_extension):\n",
    "    ..."
   ]
  },
  {
   "cell_type": "markdown",
   "metadata": {},
   "source": [
    "__Задание 11 (1 балл):__ Описать функцию, которая принимает на вход два списка и возвращает список уникальных элементов, которые есть в первом входном списке и отсутствуют во втором. Запрещается использовать циклы и списковые включения/генераторы списков."
   ]
  },
  {
   "cell_type": "code",
   "execution_count": 11,
   "metadata": {
    "tags": []
   },
   "outputs": [
    {
     "name": "stdout",
     "output_type": "stream",
     "text": [
      "[1, '&', 'bdf', 18, '&1', 'e']\n"
     ]
    }
   ],
   "source": [
    "def task_11_func(first_list, second_list):\n",
    "    return list( set(first_list)^set(second_list) )\n",
    "\n",
    "#tests\n",
    "tests = [1, 'e', 'd', 18, \"ab\", \"bdf\", -9.6], ['d', -9.6, \"ab\"]\n",
    "tests_res = task_11_func([1, 'e', 'd', 18, 'ab', \"bdf\", -9.6, '&1', 1, 'd'], ['d', -9.6, 'ab', '&'])\n",
    "print(tests_res)"
   ]
  },
  {
   "cell_type": "markdown",
   "metadata": {},
   "source": [
    "__Задание 12 (1 балл):__ Напишите функцию, которая получает на вход путь к файлу, в котором в каждой строке записано одно вещественное число, а также путь к выходному файлу. Функция должна прочитать содержимое файла, игнорировать строки с нечётными индексами, а строки с чётными индексами должна увеличить на минимальное из чисел, содержащихся в этом файле. Полученные числа нужно записать в выходной файл с точностью 5 знаков после запятой.\n",
    "\n",
    "Требуется сделать не более двух проходов по входному файлу, расход памяти на протяжении работы должен быть O(1) (то есть никак не зависеть от числа строк во входном файле)."
   ]
  },
  {
   "cell_type": "code",
   "execution_count": 12,
   "metadata": {},
   "outputs": [],
   "source": [
    "def task_12_func(input_path, output_path):\n",
    "    ...\n",
    "    \n",
    "# переделать тесты"
   ]
  },
  {
   "cell_type": "markdown",
   "metadata": {},
   "source": [
    "__Задание 13 (1 балл):__ Написать функцию, которая принимает на вход число `n`, которое может быть либо натуральным, либо -1, и возвращает генератор чисел Фиббоначи. Если входной параметр равен натуральному числу, то генератор должен выдавать последовательно числа Фиббоначи до `n`-го. Если `n` равно -1, то генератор должен быть бесконечным."
   ]
  },
  {
   "cell_type": "code",
   "execution_count": 13,
   "metadata": {},
   "outputs": [
    {
     "name": "stdout",
     "output_type": "stream",
     "text": [
      "Tests passed\n"
     ]
    }
   ],
   "source": [
    "def task_13_func(n):\n",
    "    a, b = 0, 1\n",
    "    while(n != 0):\n",
    "        yield a\n",
    "        a, b = (b, a + b)\n",
    "        n -= 1\n",
    "\n",
    "# tests\n",
    "x = [ a for a in task_13_func(11)]\n",
    "limit = 11\n",
    "for a in task_13_func(-1):\n",
    "    limit -= 1\n",
    "    if limit == 0:\n",
    "        break\n",
    "assert x == [0, 1, 1, 2, 3, 5, 8, 13, 21, 34, 55]\n",
    "assert a == x[-1]\n",
    "print(\"Tests passed\")"
   ]
  },
  {
   "cell_type": "markdown",
   "metadata": {},
   "source": [
    "__Задание 14 (1 балл):__ Написать функцию, которая принимает на вход произвольный объект, проверяет его тип, и для целого числа возвращает список всех магических методов объекта, начинающихся с `__a`, для строк - с `__s`. Для всех прочих типов должен возвращаться список немагических методов. В задании запрещается использовать циклы и списковые включения/генераторы списков."
   ]
  },
  {
   "cell_type": "code",
   "execution_count": 14,
   "metadata": {
    "tags": []
   },
   "outputs": [
    {
     "name": "stdout",
     "output_type": "stream",
     "text": [
      "[['__setattr__', '__sizeof__', '__str__', '__subclasshook__'], ['__setattr__', '__sizeof__', '__str__', '__subclasshook__'], ['__abs__', '__add__', '__and__'], ['as_integer_ratio', 'conjugate', 'fromhex', 'hex', 'imag', 'is_integer', 'real'], ['updatePhone']]\n"
     ]
    }
   ],
   "source": [
    "def task_14_func(n):\n",
    "    tp_ = type(n)\n",
    "    res = None\n",
    "    if tp_ == int:\n",
    "        res = list( filter( lambda attr: attr.startswith('__a')  , dir(tp_) ) )\n",
    "    elif tp_ == str:\n",
    "        res = list( filter( lambda attr: attr.startswith('__s')  , dir(tp_) ) )\n",
    "    else:\n",
    "        res = list( filter( lambda attr: not attr.startswith('__')  , dir(tp_) ) )\n",
    "    return res\n",
    "\n",
    "#tests\n",
    "# https://stackoverflow.com/questions/14513892/the-dir-function-in-python\n",
    "class AddrBookEntry(object):\n",
    "    def __init__(self,nm,ph):\n",
    "        self.name=nm\n",
    "        self.phone=ph\n",
    "    def updatePhone(self,newph):\n",
    "        self.phone=newph\n",
    "        print('Updated phone # for :' ,self.name)\n",
    "\n",
    "my_cex = AddrBookEntry('tom','123')\n",
    "tests = ['a', \"string string\", 4, 5.0, my_cex]\n",
    "tests_res = list( map(task_14_func, tests))\n",
    "print(tests_res)"
   ]
  },
  {
   "cell_type": "markdown",
   "metadata": {},
   "source": [
    "__Задание 15 (1.5 балла):__ Написать функцию, которая во входной строке заменяет вхождения всех английских заглавных букв на их номер в таблице ASCII, затем производит сплит по минимальной из цифр строки. Предложите как минимум два различных решения, одно из которых не должно использовать циклы. При использовании циклов допускается не более двух проходов по строке."
   ]
  },
  {
   "cell_type": "code",
   "execution_count": 15,
   "metadata": {},
   "outputs": [
    {
     "name": "stdout",
     "output_type": "stream",
     "text": [
      "[['st8273ng 9', '6982', '79 z', '69ro 83o77e'], ['sКИрилл73tsey!!pop8', 'o66yem еще8', 'az']]\n",
      "[['st8273ng 9', '6982', '79 z', '69ro 83o77e'], ['sКИрилл73tsey!!pop8', 'o66yem еще8', 'az']]\n"
     ]
    }
   ],
   "source": [
    "def task_15_func(n):\n",
    "    \n",
    "    new_str = \"\".join( map( lambda ch: str(ord(ch)) if ch.isascii() and ch.isupper() else ch, \n",
    "                           n \n",
    "                          ) \n",
    "                     )\n",
    "    dig_min = min( filter( lambda x: x.isdigit(), new_str ) )\n",
    "    return new_str.split( str(dig_min) )\n",
    "\n",
    "def task_15_func_01(n):\n",
    "    new_str = \"\"\n",
    "    cnt = 0\n",
    "    for i in range(len(n)):\n",
    "        if n[i].isascii() and n[i].isupper():\n",
    "            new_str += n[cnt:i] + str(ord(n[i]))\n",
    "            cnt = i + 1\n",
    "    new_str += n[cnt:]\n",
    "    dig_min = 1000\n",
    "    for i in range(len(new_str)):\n",
    "        if new_str[i].isdigit():\n",
    "            dig = int(new_str[i])\n",
    "            if dig < dig_min:\n",
    "                dig_min = dig\n",
    "    return new_str.split( str( dig_min ) )\n",
    "\n",
    "#tests\n",
    "tests = [\"stRIng ZER0O z0Ero SoMe\", \"sКИриллItsey!!popRoByem ещеRaz\"]\n",
    "test_res = list( map(task_15_func, tests))\n",
    "test_res_01 = list( map(task_15_func_01, tests))\n",
    "\n",
    "assert test_res == test_res_01\n",
    "print(test_res)\n",
    "print(test_res_01)"
   ]
  },
  {
   "cell_type": "markdown",
   "metadata": {},
   "source": [
    "__Задание 16 (1.5 балла):__ Написать функцию, которая принимает на вход строку и извлекает из неё мобильные телефонные номера с помощью регулярных выражений. Функция должна поддерживать общепринятые варианты написания номера, как со всевозможными разделителями, так и без них (обеспечьте поддержку не менее 10 различных случаев). Возвращаемым значением функции является список всех найденных в строке номеров, если их не было, нужно вернуть пустой список."
   ]
  },
  {
   "cell_type": "code",
   "execution_count": 16,
   "metadata": {},
   "outputs": [
    {
     "data": {
      "text/plain": [
       "[['89167875436', '+7(916) 827 83 43'],\n",
       " ['8(916)7888754', '+7 972 332 1232', '8-916-439-00-43']]"
      ]
     },
     "execution_count": 16,
     "metadata": {},
     "output_type": "execute_result"
    }
   ],
   "source": [
    "#лекции и https://habr.com/ru/post/349860/\n",
    "\n",
    "def task_16_func(n):\n",
    "    import re\n",
    "    phone_pattern = re.compile('((?:8|\\+7)?[ (-]?\\(?9\\d{2}\\)?[ )-]?\\d{3}(?:[ -]?\\d{2}){2})')\n",
    "    return re.findall(phone_pattern, n)\n",
    "\n",
    "tests = [\"ask 89167875436d+7(916) 827 83 43\", \"text 8(916)788875436+7 972 332 1232 text text 8-916-439-00-43 text\"]\n",
    "test_res = list( map(task_16_func, tests))\n",
    "test_res\n",
    "# переделать тесты"
   ]
  },
  {
   "cell_type": "markdown",
   "metadata": {},
   "source": [
    "__Задание 17 (5 баллов):__ Опишем бинарное дерево, представленное в виде вложенных кортежей, в каждом узле дерева хранится вещественное число и ссылка на левое и правое поддерево.\n",
    "\n",
    "Пример: для сбалансированного дерева\n",
    "\n",
    "```\n",
    "        v_0\n",
    "       /   \\\n",
    "   v_11     v_12\n",
    "  /  \\       /  \\\n",
    "v_21 v_22  v_23 v_24\n",
    "```\n",
    "\n",
    "представление в виде кортежей будет выглядеть так:\n",
    "\n",
    "```\n",
    "(v_0,\n",
    "    (v_11,\n",
    "        (v_21, None, None),\n",
    "        (v_22, None, None)\n",
    "    ),\n",
    "    (v_12,\n",
    "        (v_23, None, None),\n",
    "        (v_24, None, None)\n",
    "    )\n",
    ")\n",
    "```\n",
    "\n",
    "Необходимо написать функцию, которая принимает на вход бинарное дерево (не обязательно сбалансированное), закодированное описанным способом в виде кортежа, производит его обход в глубину и для каждой листовой вершины вычисляет сумму всех значений от корня до неё включительно. Функция ничего не возвращает, вместо этого она выводит получаемые суммы в порядке следования листовых вершин (слева направо).\n",
    "\n",
    "Реализуйте два решения: на основе рекурсии и на основе циклов."
   ]
  },
  {
   "cell_type": "code",
   "execution_count": 17,
   "metadata": {},
   "outputs": [
    {
     "name": "stdout",
     "output_type": "stream",
     "text": [
      "14 12 19 20 45 "
     ]
    }
   ],
   "source": [
    "def task_17_func_recurs(n, res_tmp = 0):\n",
    "    if n[1:] == (None, None):\n",
    "        print(n[0] + res_tmp, end=' ')\n",
    "    else:\n",
    "        if not n[1] is None: task_17_func_recurs(n[1], n[0] + res_tmp)\n",
    "        if not n[2] is None: task_17_func_recurs(n[2], n[0] + res_tmp)\n",
    "\n",
    "#tests\n",
    "bst_tree = (3, \n",
    "                 (2,\n",
    "                    (4, (5, None, None), None ),\n",
    "                    (6, (1, None, None), (8, None, None) )\n",
    "                 ),\n",
    "                 (10,\n",
    "                    (7, None, None), \n",
    "                    (32, None, None)\n",
    "                 )\n",
    "           )\n",
    "task_17_func_recurs(bst_tree)"
   ]
  }
 ],
 "metadata": {
  "kernelspec": {
   "display_name": "Python 3",
   "language": "python",
   "name": "python3"
  },
  "language_info": {
   "codemirror_mode": {
    "name": "ipython",
    "version": 3
   },
   "file_extension": ".py",
   "mimetype": "text/x-python",
   "name": "python",
   "nbconvert_exporter": "python",
   "pygments_lexer": "ipython3",
   "version": "3.8.2"
  }
 },
 "nbformat": 4,
 "nbformat_minor": 4
}
